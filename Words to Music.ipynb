{
 "cells": [
  {
   "cell_type": "markdown",
   "metadata": {},
   "source": [
    " # Words -> Music \n",
    "\n",
    "## Aim: \n",
    "\n",
    "To get input from user and map it to basic music notes.\n",
    "This is an exercise for fun, the output notes maynot sound pleasant.\n",
    "\n",
    "## Logic:\n",
    "\n",
    "1. Get input string from user\n",
    "1. Convert it to corresponding ASCII values\n",
    "1. Convert ASCII to Binary\n",
    "1. Map Binary to CDEFGABC\n",
    "1. Print out the notes\n"
   ]
  },
  {
   "cell_type": "code",
   "execution_count": null,
   "metadata": {},
   "outputs": [],
   "source": [
    "inp1 = input('Enter the string')"
   ]
  },
  {
   "cell_type": "code",
   "execution_count": null,
   "metadata": {},
   "outputs": [],
   "source": [
    "notes = ['C','D','E','F','G','A','B','C']"
   ]
  },
  {
   "cell_type": "code",
   "execution_count": null,
   "metadata": {},
   "outputs": [],
   "source": [
    "res = 0\n",
    "for i in inp1:\n",
    "    ind = 0\n",
    "    bival = format(ord(i),'b')\n",
    "    bival_len = len(bival)\n",
    "#     print(bival,bival_len)\n",
    "    strt= 8 - bival_len\n",
    "#     print(strt)\n",
    "    for i in bival:\n",
    "        if i == '1':\n",
    "            if res == 0:\n",
    "                res = notes[strt+ind]\n",
    "            else:\n",
    "             res +=notes[strt+ind]\n",
    "#             print(strt+ind)\n",
    "#             print(res)\n",
    "        ind = ind + 1\n",
    "    "
   ]
  },
  {
   "cell_type": "code",
   "execution_count": null,
   "metadata": {},
   "outputs": [],
   "source": [
    "print('Here are the notes for your input:'+ res + '\\n Enjoy your music!')"
   ]
  }
 ],
 "metadata": {
  "kernelspec": {
   "display_name": "Python 3",
   "language": "python",
   "name": "python3"
  },
  "language_info": {
   "codemirror_mode": {
    "name": "ipython",
    "version": 3
   },
   "file_extension": ".py",
   "mimetype": "text/x-python",
   "name": "python",
   "nbconvert_exporter": "python",
   "pygments_lexer": "ipython3",
   "version": "3.7.3"
  }
 },
 "nbformat": 4,
 "nbformat_minor": 2
}
